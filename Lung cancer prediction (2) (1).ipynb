{
 "cells": [
  {
   "cell_type": "code",
   "execution_count": 1,
   "id": "8bb97ce7-9096-4a38-af76-55b6d9dad554",
   "metadata": {},
   "outputs": [],
   "source": [
    "import pandas as pd\n",
    "import numpy as np"
   ]
  },
  {
   "cell_type": "code",
   "execution_count": 2,
   "id": "684795d1-eafe-46df-b305-7dd203602d8d",
   "metadata": {},
   "outputs": [],
   "source": [
    "df=pd.read_csv('cancer patient data sets.csv')"
   ]
  },
  {
   "cell_type": "code",
   "execution_count": 3,
   "id": "d50545ab-e1fa-4c63-8ad0-ccd8da5b92d3",
   "metadata": {},
   "outputs": [
    {
     "data": {
      "text/html": [
       "<div>\n",
       "<style scoped>\n",
       "    .dataframe tbody tr th:only-of-type {\n",
       "        vertical-align: middle;\n",
       "    }\n",
       "\n",
       "    .dataframe tbody tr th {\n",
       "        vertical-align: top;\n",
       "    }\n",
       "\n",
       "    .dataframe thead th {\n",
       "        text-align: right;\n",
       "    }\n",
       "</style>\n",
       "<table border=\"1\" class=\"dataframe\">\n",
       "  <thead>\n",
       "    <tr style=\"text-align: right;\">\n",
       "      <th></th>\n",
       "      <th>index</th>\n",
       "      <th>Patient Id</th>\n",
       "      <th>Age</th>\n",
       "      <th>Gender</th>\n",
       "      <th>Air Pollution</th>\n",
       "      <th>Alcohol use</th>\n",
       "      <th>Dust Allergy</th>\n",
       "      <th>OccuPational Hazards</th>\n",
       "      <th>Genetic Risk</th>\n",
       "      <th>chronic Lung Disease</th>\n",
       "      <th>...</th>\n",
       "      <th>Fatigue</th>\n",
       "      <th>Weight Loss</th>\n",
       "      <th>Shortness of Breath</th>\n",
       "      <th>Wheezing</th>\n",
       "      <th>Swallowing Difficulty</th>\n",
       "      <th>Clubbing of Finger Nails</th>\n",
       "      <th>Frequent Cold</th>\n",
       "      <th>Dry Cough</th>\n",
       "      <th>Snoring</th>\n",
       "      <th>Level</th>\n",
       "    </tr>\n",
       "  </thead>\n",
       "  <tbody>\n",
       "    <tr>\n",
       "      <th>0</th>\n",
       "      <td>0</td>\n",
       "      <td>P1</td>\n",
       "      <td>33</td>\n",
       "      <td>1</td>\n",
       "      <td>2</td>\n",
       "      <td>4</td>\n",
       "      <td>5</td>\n",
       "      <td>4</td>\n",
       "      <td>3</td>\n",
       "      <td>2</td>\n",
       "      <td>...</td>\n",
       "      <td>3</td>\n",
       "      <td>4</td>\n",
       "      <td>2</td>\n",
       "      <td>2</td>\n",
       "      <td>3</td>\n",
       "      <td>1</td>\n",
       "      <td>2</td>\n",
       "      <td>3</td>\n",
       "      <td>4</td>\n",
       "      <td>Low</td>\n",
       "    </tr>\n",
       "    <tr>\n",
       "      <th>1</th>\n",
       "      <td>1</td>\n",
       "      <td>P10</td>\n",
       "      <td>17</td>\n",
       "      <td>1</td>\n",
       "      <td>3</td>\n",
       "      <td>1</td>\n",
       "      <td>5</td>\n",
       "      <td>3</td>\n",
       "      <td>4</td>\n",
       "      <td>2</td>\n",
       "      <td>...</td>\n",
       "      <td>1</td>\n",
       "      <td>3</td>\n",
       "      <td>7</td>\n",
       "      <td>8</td>\n",
       "      <td>6</td>\n",
       "      <td>2</td>\n",
       "      <td>1</td>\n",
       "      <td>7</td>\n",
       "      <td>2</td>\n",
       "      <td>Medium</td>\n",
       "    </tr>\n",
       "    <tr>\n",
       "      <th>2</th>\n",
       "      <td>2</td>\n",
       "      <td>P100</td>\n",
       "      <td>35</td>\n",
       "      <td>1</td>\n",
       "      <td>4</td>\n",
       "      <td>5</td>\n",
       "      <td>6</td>\n",
       "      <td>5</td>\n",
       "      <td>5</td>\n",
       "      <td>4</td>\n",
       "      <td>...</td>\n",
       "      <td>8</td>\n",
       "      <td>7</td>\n",
       "      <td>9</td>\n",
       "      <td>2</td>\n",
       "      <td>1</td>\n",
       "      <td>4</td>\n",
       "      <td>6</td>\n",
       "      <td>7</td>\n",
       "      <td>2</td>\n",
       "      <td>High</td>\n",
       "    </tr>\n",
       "    <tr>\n",
       "      <th>3</th>\n",
       "      <td>3</td>\n",
       "      <td>P1000</td>\n",
       "      <td>37</td>\n",
       "      <td>1</td>\n",
       "      <td>7</td>\n",
       "      <td>7</td>\n",
       "      <td>7</td>\n",
       "      <td>7</td>\n",
       "      <td>6</td>\n",
       "      <td>7</td>\n",
       "      <td>...</td>\n",
       "      <td>4</td>\n",
       "      <td>2</td>\n",
       "      <td>3</td>\n",
       "      <td>1</td>\n",
       "      <td>4</td>\n",
       "      <td>5</td>\n",
       "      <td>6</td>\n",
       "      <td>7</td>\n",
       "      <td>5</td>\n",
       "      <td>High</td>\n",
       "    </tr>\n",
       "    <tr>\n",
       "      <th>4</th>\n",
       "      <td>4</td>\n",
       "      <td>P101</td>\n",
       "      <td>46</td>\n",
       "      <td>1</td>\n",
       "      <td>6</td>\n",
       "      <td>8</td>\n",
       "      <td>7</td>\n",
       "      <td>7</td>\n",
       "      <td>7</td>\n",
       "      <td>6</td>\n",
       "      <td>...</td>\n",
       "      <td>3</td>\n",
       "      <td>2</td>\n",
       "      <td>4</td>\n",
       "      <td>1</td>\n",
       "      <td>4</td>\n",
       "      <td>2</td>\n",
       "      <td>4</td>\n",
       "      <td>2</td>\n",
       "      <td>3</td>\n",
       "      <td>High</td>\n",
       "    </tr>\n",
       "  </tbody>\n",
       "</table>\n",
       "<p>5 rows × 26 columns</p>\n",
       "</div>"
      ],
      "text/plain": [
       "   index Patient Id  Age  Gender  Air Pollution  Alcohol use  Dust Allergy  \\\n",
       "0      0         P1   33       1              2            4             5   \n",
       "1      1        P10   17       1              3            1             5   \n",
       "2      2       P100   35       1              4            5             6   \n",
       "3      3      P1000   37       1              7            7             7   \n",
       "4      4       P101   46       1              6            8             7   \n",
       "\n",
       "   OccuPational Hazards  Genetic Risk  chronic Lung Disease  ...  Fatigue  \\\n",
       "0                     4             3                     2  ...        3   \n",
       "1                     3             4                     2  ...        1   \n",
       "2                     5             5                     4  ...        8   \n",
       "3                     7             6                     7  ...        4   \n",
       "4                     7             7                     6  ...        3   \n",
       "\n",
       "   Weight Loss  Shortness of Breath  Wheezing  Swallowing Difficulty  \\\n",
       "0            4                    2         2                      3   \n",
       "1            3                    7         8                      6   \n",
       "2            7                    9         2                      1   \n",
       "3            2                    3         1                      4   \n",
       "4            2                    4         1                      4   \n",
       "\n",
       "   Clubbing of Finger Nails  Frequent Cold  Dry Cough  Snoring   Level  \n",
       "0                         1              2          3        4     Low  \n",
       "1                         2              1          7        2  Medium  \n",
       "2                         4              6          7        2    High  \n",
       "3                         5              6          7        5    High  \n",
       "4                         2              4          2        3    High  \n",
       "\n",
       "[5 rows x 26 columns]"
      ]
     },
     "execution_count": 3,
     "metadata": {},
     "output_type": "execute_result"
    }
   ],
   "source": [
    "df.head()"
   ]
  },
  {
   "cell_type": "code",
   "execution_count": 4,
   "id": "ebacd2a4-e5ca-49af-bc48-1eac67563f2d",
   "metadata": {},
   "outputs": [
    {
     "name": "stdout",
     "output_type": "stream",
     "text": [
      "(1000, 26)\n"
     ]
    }
   ],
   "source": [
    "print(df.shape)"
   ]
  },
  {
   "cell_type": "code",
   "execution_count": 5,
   "id": "54539b06-c686-464a-a991-9425f6c97012",
   "metadata": {},
   "outputs": [],
   "source": [
    "df.drop('index', axis=1, inplace=True)"
   ]
  },
  {
   "cell_type": "code",
   "execution_count": 6,
   "id": "17d313d0-9759-4005-b6d6-6d73297603ba",
   "metadata": {},
   "outputs": [
    {
     "data": {
      "text/plain": [
       "Patient Id                  0\n",
       "Age                         0\n",
       "Gender                      0\n",
       "Air Pollution               0\n",
       "Alcohol use                 0\n",
       "Dust Allergy                0\n",
       "OccuPational Hazards        0\n",
       "Genetic Risk                0\n",
       "chronic Lung Disease        0\n",
       "Balanced Diet               0\n",
       "Obesity                     0\n",
       "Smoking                     0\n",
       "Passive Smoker              0\n",
       "Chest Pain                  0\n",
       "Coughing of Blood           0\n",
       "Fatigue                     0\n",
       "Weight Loss                 0\n",
       "Shortness of Breath         0\n",
       "Wheezing                    0\n",
       "Swallowing Difficulty       0\n",
       "Clubbing of Finger Nails    0\n",
       "Frequent Cold               0\n",
       "Dry Cough                   0\n",
       "Snoring                     0\n",
       "Level                       0\n",
       "dtype: int64"
      ]
     },
     "execution_count": 6,
     "metadata": {},
     "output_type": "execute_result"
    }
   ],
   "source": [
    "df.isnull().sum()"
   ]
  },
  {
   "cell_type": "code",
   "execution_count": 7,
   "id": "74ad6059-2ff2-48a4-8d0b-348a32f097da",
   "metadata": {},
   "outputs": [
    {
     "data": {
      "text/plain": [
       "<bound method DataFrame.info of     Patient Id  Age  Gender  Air Pollution  Alcohol use  Dust Allergy  \\\n",
       "0           P1   33       1              2            4             5   \n",
       "1          P10   17       1              3            1             5   \n",
       "2         P100   35       1              4            5             6   \n",
       "3        P1000   37       1              7            7             7   \n",
       "4         P101   46       1              6            8             7   \n",
       "..         ...  ...     ...            ...          ...           ...   \n",
       "995       P995   44       1              6            7             7   \n",
       "996       P996   37       2              6            8             7   \n",
       "997       P997   25       2              4            5             6   \n",
       "998       P998   18       2              6            8             7   \n",
       "999       P999   47       1              6            5             6   \n",
       "\n",
       "     OccuPational Hazards  Genetic Risk  chronic Lung Disease  Balanced Diet  \\\n",
       "0                       4             3                     2              2   \n",
       "1                       3             4                     2              2   \n",
       "2                       5             5                     4              6   \n",
       "3                       7             6                     7              7   \n",
       "4                       7             7                     6              7   \n",
       "..                    ...           ...                   ...            ...   \n",
       "995                     7             7                     6              7   \n",
       "996                     7             7                     6              7   \n",
       "997                     5             5                     4              6   \n",
       "998                     7             7                     6              7   \n",
       "999                     5             5                     4              6   \n",
       "\n",
       "     ...  Fatigue  Weight Loss  Shortness of Breath  Wheezing  \\\n",
       "0    ...        3            4                    2         2   \n",
       "1    ...        1            3                    7         8   \n",
       "2    ...        8            7                    9         2   \n",
       "3    ...        4            2                    3         1   \n",
       "4    ...        3            2                    4         1   \n",
       "..   ...      ...          ...                  ...       ...   \n",
       "995  ...        5            3                    2         7   \n",
       "996  ...        9            6                    5         7   \n",
       "997  ...        8            7                    9         2   \n",
       "998  ...        3            2                    4         1   \n",
       "999  ...        8            7                    9         2   \n",
       "\n",
       "     Swallowing Difficulty  Clubbing of Finger Nails  Frequent Cold  \\\n",
       "0                        3                         1              2   \n",
       "1                        6                         2              1   \n",
       "2                        1                         4              6   \n",
       "3                        4                         5              6   \n",
       "4                        4                         2              4   \n",
       "..                     ...                       ...            ...   \n",
       "995                      8                         2              4   \n",
       "996                      2                         4              3   \n",
       "997                      1                         4              6   \n",
       "998                      4                         2              4   \n",
       "999                      1                         4              6   \n",
       "\n",
       "     Dry Cough  Snoring   Level  \n",
       "0            3        4     Low  \n",
       "1            7        2  Medium  \n",
       "2            7        2    High  \n",
       "3            7        5    High  \n",
       "4            2        3    High  \n",
       "..         ...      ...     ...  \n",
       "995          5        3    High  \n",
       "996          1        4    High  \n",
       "997          7        2    High  \n",
       "998          2        3    High  \n",
       "999          7        2    High  \n",
       "\n",
       "[1000 rows x 25 columns]>"
      ]
     },
     "execution_count": 7,
     "metadata": {},
     "output_type": "execute_result"
    }
   ],
   "source": [
    "df.info"
   ]
  },
  {
   "cell_type": "code",
   "execution_count": 8,
   "id": "f1567730-9f84-446f-81c5-748f2ff7ace8",
   "metadata": {},
   "outputs": [
    {
     "name": "stdout",
     "output_type": "stream",
     "text": [
      "Number of Duplicate Rows: 0\n"
     ]
    }
   ],
   "source": [
    "num_duplicates = df.duplicated().sum()\n",
    "print(\"Number of Duplicate Rows:\", num_duplicates)"
   ]
  },
  {
   "cell_type": "code",
   "execution_count": 9,
   "id": "2768b93a-a14e-41b1-bb51-08fd9ca342aa",
   "metadata": {},
   "outputs": [
    {
     "name": "stdout",
     "output_type": "stream",
     "text": [
      "Patient Id                  object\n",
      "Age                          int64\n",
      "Gender                       int64\n",
      "Air Pollution                int64\n",
      "Alcohol use                  int64\n",
      "Dust Allergy                 int64\n",
      "OccuPational Hazards         int64\n",
      "Genetic Risk                 int64\n",
      "chronic Lung Disease         int64\n",
      "Balanced Diet                int64\n",
      "Obesity                      int64\n",
      "Smoking                      int64\n",
      "Passive Smoker               int64\n",
      "Chest Pain                   int64\n",
      "Coughing of Blood            int64\n",
      "Fatigue                      int64\n",
      "Weight Loss                  int64\n",
      "Shortness of Breath          int64\n",
      "Wheezing                     int64\n",
      "Swallowing Difficulty        int64\n",
      "Clubbing of Finger Nails     int64\n",
      "Frequent Cold                int64\n",
      "Dry Cough                    int64\n",
      "Snoring                      int64\n",
      "Level                       object\n",
      "dtype: object\n",
      "Numerical Columns: Index(['Age', 'Gender', 'Air Pollution', 'Alcohol use', 'Dust Allergy',\n",
      "       'OccuPational Hazards', 'Genetic Risk', 'chronic Lung Disease',\n",
      "       'Balanced Diet', 'Obesity', 'Smoking', 'Passive Smoker', 'Chest Pain',\n",
      "       'Coughing of Blood', 'Fatigue', 'Weight Loss', 'Shortness of Breath',\n",
      "       'Wheezing', 'Swallowing Difficulty', 'Clubbing of Finger Nails',\n",
      "       'Frequent Cold', 'Dry Cough', 'Snoring'],\n",
      "      dtype='object')\n",
      "Categorical Columns: Index(['Patient Id', 'Level'], dtype='object')\n"
     ]
    }
   ],
   "source": [
    "import pandas as pd\n",
    "print(df.dtypes)\n",
    "numerical_columns = df.select_dtypes(include=['int64']).columns\n",
    "categorical_columns = df.select_dtypes(include=['object']).columns\n",
    "print(\"Numerical Columns:\", numerical_columns)\n",
    "print(\"Categorical Columns:\", categorical_columns)"
   ]
  },
  {
   "cell_type": "code",
   "execution_count": 10,
   "id": "023af2cd-c228-4ae0-b845-f02ed7d7a15d",
   "metadata": {},
   "outputs": [
    {
     "name": "stdout",
     "output_type": "stream",
     "text": [
      "   Patient Id  Age  Gender  Air Pollution  Alcohol use  Dust Allergy  \\\n",
      "0           0   33       1              2            4             5   \n",
      "1           1   17       1              3            1             5   \n",
      "2           2   35       1              4            5             6   \n",
      "3           3   37       1              7            7             7   \n",
      "4           4   46       1              6            8             7   \n",
      "\n",
      "   OccuPational Hazards  Genetic Risk  chronic Lung Disease  Balanced Diet  \\\n",
      "0                     4             3                     2              2   \n",
      "1                     3             4                     2              2   \n",
      "2                     5             5                     4              6   \n",
      "3                     7             6                     7              7   \n",
      "4                     7             7                     6              7   \n",
      "\n",
      "   ...  Fatigue  Weight Loss  Shortness of Breath  Wheezing  \\\n",
      "0  ...        3            4                    2         2   \n",
      "1  ...        1            3                    7         8   \n",
      "2  ...        8            7                    9         2   \n",
      "3  ...        4            2                    3         1   \n",
      "4  ...        3            2                    4         1   \n",
      "\n",
      "   Swallowing Difficulty  Clubbing of Finger Nails  Frequent Cold  Dry Cough  \\\n",
      "0                      3                         1              2          3   \n",
      "1                      6                         2              1          7   \n",
      "2                      1                         4              6          7   \n",
      "3                      4                         5              6          7   \n",
      "4                      4                         2              4          2   \n",
      "\n",
      "   Snoring  Level  \n",
      "0        4      1  \n",
      "1        2      2  \n",
      "2        2      0  \n",
      "3        5      0  \n",
      "4        3      0  \n",
      "\n",
      "[5 rows x 25 columns]\n"
     ]
    }
   ],
   "source": [
    "from sklearn.preprocessing import LabelEncoder\n",
    "label_encoder = LabelEncoder()\n",
    "for col in categorical_columns:\n",
    "    df[col] = label_encoder.fit_transform(df[col])\n",
    "print(df.head())"
   ]
  },
  {
   "cell_type": "code",
   "execution_count": 11,
   "id": "e7f85095-ae20-49e6-b4a8-e29cb57a8a5b",
   "metadata": {},
   "outputs": [
    {
     "name": "stdout",
     "output_type": "stream",
     "text": [
      "     Patient Id   Age  Gender  Air Pollution  Alcohol use  Dust Allergy  \\\n",
      "0             0  33.0     1.0            2.0          4.0           5.0   \n",
      "1             1  17.0     1.0            3.0          1.0           5.0   \n",
      "2             2  35.0     1.0            4.0          5.0           6.0   \n",
      "3             3  37.0     1.0            7.0          7.0           7.0   \n",
      "4             4  46.0     1.0            6.0          8.0           7.0   \n",
      "..          ...   ...     ...            ...          ...           ...   \n",
      "995         995  44.0     1.0            6.0          7.0           7.0   \n",
      "996         996  37.0     2.0            6.0          8.0           7.0   \n",
      "997         997  25.0     2.0            4.0          5.0           6.0   \n",
      "998         998  18.0     2.0            6.0          8.0           7.0   \n",
      "999         999  47.0     1.0            6.0          5.0           6.0   \n",
      "\n",
      "     OccuPational Hazards  Genetic Risk  chronic Lung Disease  Balanced Diet  \\\n",
      "0                     4.0           3.0                   2.0            2.0   \n",
      "1                     3.0           4.0                   2.0            2.0   \n",
      "2                     5.0           5.0                   4.0            6.0   \n",
      "3                     7.0           6.0                   7.0            7.0   \n",
      "4                     7.0           7.0                   6.0            7.0   \n",
      "..                    ...           ...                   ...            ...   \n",
      "995                   7.0           7.0                   6.0            7.0   \n",
      "996                   7.0           7.0                   6.0            7.0   \n",
      "997                   5.0           5.0                   4.0            6.0   \n",
      "998                   7.0           7.0                   6.0            7.0   \n",
      "999                   5.0           5.0                   4.0            6.0   \n",
      "\n",
      "     ...  Fatigue  Weight Loss  Shortness of Breath  Wheezing  \\\n",
      "0    ...      3.0          4.0                  2.0       2.0   \n",
      "1    ...      1.0          3.0                  7.0       8.0   \n",
      "2    ...      8.0          7.0                  9.0       2.0   \n",
      "3    ...      4.0          2.0                  3.0       1.0   \n",
      "4    ...      3.0          2.0                  4.0       1.0   \n",
      "..   ...      ...          ...                  ...       ...   \n",
      "995  ...      5.0          3.0                  2.0       7.0   \n",
      "996  ...      9.0          6.0                  5.0       7.0   \n",
      "997  ...      8.0          7.0                  9.0       2.0   \n",
      "998  ...      3.0          2.0                  4.0       1.0   \n",
      "999  ...      8.0          7.0                  9.0       2.0   \n",
      "\n",
      "     Swallowing Difficulty  Clubbing of Finger Nails  Frequent Cold  \\\n",
      "0                      3.0                       1.0            2.0   \n",
      "1                      6.0                       2.0            1.0   \n",
      "2                      1.0                       4.0            6.0   \n",
      "3                      4.0                       5.0            6.0   \n",
      "4                      4.0                       2.0            4.0   \n",
      "..                     ...                       ...            ...   \n",
      "995                    8.0                       2.0            4.0   \n",
      "996                    2.0                       4.0            3.0   \n",
      "997                    1.0                       4.0            6.0   \n",
      "998                    4.0                       2.0            4.0   \n",
      "999                    1.0                       4.0            6.0   \n",
      "\n",
      "     Dry Cough  Snoring  Level  \n",
      "0          3.0      4.0      1  \n",
      "1          7.0      2.0      2  \n",
      "2          7.0      2.0      0  \n",
      "3          7.0      5.0      0  \n",
      "4          2.0      3.0      0  \n",
      "..         ...      ...    ...  \n",
      "995        5.0      3.0      0  \n",
      "996        1.0      4.0      0  \n",
      "997        7.0      2.0      0  \n",
      "998        2.0      3.0      0  \n",
      "999        7.0      2.0      0  \n",
      "\n",
      "[1000 rows x 25 columns]\n"
     ]
    }
   ],
   "source": [
    "import pandas as pd\n",
    "import numpy as np\n",
    "numerical_columns = df.select_dtypes(include=['int64']).columns\n",
    "Q1 = df[numerical_columns].quantile(0.25)\n",
    "Q3 = df[numerical_columns].quantile(0.75)\n",
    "IQR = Q3 - Q1\n",
    "lower_threshold = Q1 - 1.5 * IQR\n",
    "upper_threshold = Q3 + 1.5 * IQR\n",
    "for col in numerical_columns:\n",
    "    df[col] = np.where((df[col] < lower_threshold[col]) | (df[col] > upper_threshold[col]), \n",
    "                       np.where(df[col] < lower_threshold[col], lower_threshold[col], upper_threshold[col]),\n",
    "                       df[col])\n",
    "print(df)"
   ]
  },
  {
   "cell_type": "code",
   "execution_count": 12,
   "id": "56564ffa-af77-4c02-b044-9e8993e21ddb",
   "metadata": {},
   "outputs": [
    {
     "name": "stdout",
     "output_type": "stream",
     "text": [
      "(1000, 25)\n"
     ]
    }
   ],
   "source": [
    "print(df.shape)"
   ]
  },
  {
   "cell_type": "code",
   "execution_count": 13,
   "id": "084bb2a9-c786-4cf1-bcf3-d18c1e36f6d7",
   "metadata": {},
   "outputs": [
    {
     "name": "stdout",
     "output_type": "stream",
     "text": [
      "X_train shape: (800, 23)\n",
      "X_test shape: (200, 23)\n",
      "y_train shape: (800,)\n",
      "y_test shape: (200,)\n"
     ]
    }
   ],
   "source": [
    "features = ['Age', 'Gender', 'Air Pollution', 'Alcohol use', 'Dust Allergy', 'OccuPational Hazards', \n",
    "            'Genetic Risk', 'chronic Lung Disease', 'Balanced Diet', 'Obesity', 'Smoking', 'Passive Smoker', \n",
    "            'Chest Pain', 'Coughing of Blood', 'Fatigue', 'Weight Loss', 'Shortness of Breath', 'Wheezing', \n",
    "            'Swallowing Difficulty', 'Clubbing of Finger Nails', 'Frequent Cold', 'Dry Cough', 'Snoring']\n",
    "target = 'Level'\n",
    "X = df[features]\n",
    "y = df[target]\n",
    "from sklearn.model_selection import train_test_split\n",
    "X_train, X_test, y_train, y_test = train_test_split(X, y, test_size=0.2, random_state=42)\n",
    "print(\"X_train shape:\", X_train.shape)\n",
    "print(\"X_test shape:\", X_test.shape)\n",
    "print(\"y_train shape:\", y_train.shape)\n",
    "print(\"y_test shape:\", y_test.shape)"
   ]
  },
  {
   "cell_type": "code",
   "execution_count": 14,
   "id": "efb91049-025e-420b-bc92-4f7344d432e4",
   "metadata": {},
   "outputs": [
    {
     "name": "stdout",
     "output_type": "stream",
     "text": [
      "Accuracy: 100.0%\n",
      "Precision: 100.0%\n",
      "Recall: 100.0%\n",
      "F1 Score: 100.0%\n"
     ]
    }
   ],
   "source": [
    "import pandas as pd\n",
    "from sklearn.ensemble import RandomForestClassifier\n",
    "from sklearn.metrics import accuracy_score, precision_score, recall_score, f1_score\n",
    "rf_model = RandomForestClassifier(n_estimators=100, random_state=42)\n",
    "rf_model.fit(X_train, y_train)\n",
    "y_pred = rf_model.predict(X_test)\n",
    "accuracy = accuracy_score(y_test, y_pred) * 100\n",
    "precision = precision_score(y_test, y_pred, average='weighted') * 100\n",
    "recall = recall_score(y_test, y_pred, average='weighted') * 100\n",
    "f1 = f1_score(y_test, y_pred, average='weighted') * 100\n",
    "print(f\"Accuracy: {accuracy:.1f}%\")\n",
    "print(f\"Precision: {precision:.1f}%\")\n",
    "print(f\"Recall: {recall:.1f}%\")\n",
    "print(f\"F1 Score: {f1:.1f}%\")"
   ]
  },
  {
   "cell_type": "code",
   "execution_count": 15,
   "id": "538a5dee-cf99-4fef-b70c-a2a71ec7c889",
   "metadata": {
    "scrolled": true
   },
   "outputs": [
    {
     "name": "stdout",
     "output_type": "stream",
     "text": [
      "Confusion Matrix:\n",
      "[[82  0  0]\n",
      " [ 0 55  0]\n",
      " [ 0  0 63]]\n"
     ]
    }
   ],
   "source": [
    "from sklearn.metrics import confusion_matrix, classification_report\n",
    "conf_matrix = confusion_matrix(y_test, y_pred)\n",
    "print(\"Confusion Matrix:\")\n",
    "print(conf_matrix)"
   ]
  },
  {
   "cell_type": "code",
   "execution_count": 16,
   "id": "16a208fc-a1b6-4cd0-9607-8e31909fe706",
   "metadata": {},
   "outputs": [
    {
     "name": "stdout",
     "output_type": "stream",
     "text": [
      "Cross-validation scores: [1. 1. 1. 1. 1.]\n",
      "Mean cross-validation score: 100.0%\n"
     ]
    }
   ],
   "source": [
    "from sklearn.model_selection import cross_val_score\n",
    "cv_scores = cross_val_score(rf_model, X, y, cv=5, scoring='accuracy')\n",
    "print(f\"Cross-validation scores: {cv_scores}\")\n",
    "print(f\"Mean cross-validation score: {cv_scores.mean() * 100:.1f}%\")"
   ]
  },
  {
   "cell_type": "code",
   "execution_count": 17,
   "id": "0a9e83de-f02f-43e2-9d71-f1521c1990ab",
   "metadata": {},
   "outputs": [
    {
     "name": "stdout",
     "output_type": "stream",
     "text": [
      "                     Feature  Importance\n",
      "13         Coughing of Blood    0.112728\n",
      "11            Passive Smoker    0.099777\n",
      "9                    Obesity    0.085630\n",
      "17                  Wheezing    0.075292\n",
      "14                   Fatigue    0.065887\n",
      "12                Chest Pain    0.047938\n",
      "8              Balanced Diet    0.043398\n",
      "19  Clubbing of Finger Nails    0.043121\n",
      "16       Shortness of Breath    0.043086\n",
      "3                Alcohol use    0.040272\n",
      "18     Swallowing Difficulty    0.038915\n",
      "10                   Smoking    0.038630\n",
      "2              Air Pollution    0.038229\n",
      "6               Genetic Risk    0.037786\n",
      "4               Dust Allergy    0.036367\n",
      "22                   Snoring    0.032401\n",
      "5       OccuPational Hazards    0.032379\n",
      "15               Weight Loss    0.029377\n",
      "20             Frequent Cold    0.021475\n",
      "7       chronic Lung Disease    0.017274\n",
      "21                 Dry Cough    0.014570\n",
      "0                        Age    0.005093\n",
      "1                     Gender    0.000377\n"
     ]
    }
   ],
   "source": [
    "importances = rf_model.feature_importances_\n",
    "feature_importance_df = pd.DataFrame({'Feature': features, 'Importance': importances})\n",
    "feature_importance_df = feature_importance_df.sort_values(by='Importance', ascending=False)\n",
    "print(feature_importance_df)"
   ]
  },
  {
   "cell_type": "code",
   "execution_count": 18,
   "id": "ce3e82af-76b1-475d-8b33-f6b3c8282520",
   "metadata": {},
   "outputs": [
    {
     "name": "stdout",
     "output_type": "stream",
     "text": [
      "Epoch 1/10\n",
      "25/25 [==============================] - 4s 25ms/step - loss: 0.4355 - accuracy: 0.3000 - val_loss: -1.2858 - val_accuracy: 0.3200\n",
      "Epoch 2/10\n",
      "25/25 [==============================] - 0s 5ms/step - loss: -2.3333 - accuracy: 0.3663 - val_loss: -4.4760 - val_accuracy: 0.4800\n",
      "Epoch 3/10\n",
      "25/25 [==============================] - 0s 5ms/step - loss: -5.7636 - accuracy: 0.3900 - val_loss: -10.2146 - val_accuracy: 0.4700\n",
      "Epoch 4/10\n",
      "25/25 [==============================] - 0s 5ms/step - loss: -13.2618 - accuracy: 0.4525 - val_loss: -19.0042 - val_accuracy: 0.3350\n",
      "Epoch 5/10\n",
      "25/25 [==============================] - 0s 5ms/step - loss: -25.8447 - accuracy: 0.4013 - val_loss: -41.7136 - val_accuracy: 0.4700\n",
      "Epoch 6/10\n",
      "25/25 [==============================] - 0s 5ms/step - loss: -50.9586 - accuracy: 0.4325 - val_loss: -75.8776 - val_accuracy: 0.4300\n",
      "Epoch 7/10\n",
      "25/25 [==============================] - 0s 5ms/step - loss: -91.4909 - accuracy: 0.4200 - val_loss: -129.6709 - val_accuracy: 0.4200\n",
      "Epoch 8/10\n",
      "25/25 [==============================] - 0s 6ms/step - loss: -152.0584 - accuracy: 0.4187 - val_loss: -211.7309 - val_accuracy: 0.4200\n",
      "Epoch 9/10\n",
      "25/25 [==============================] - 0s 5ms/step - loss: -239.8348 - accuracy: 0.4313 - val_loss: -322.9501 - val_accuracy: 0.4100\n",
      "Epoch 10/10\n",
      "25/25 [==============================] - 0s 5ms/step - loss: -360.8958 - accuracy: 0.4212 - val_loss: -469.4141 - val_accuracy: 0.4100\n",
      "7/7 [==============================] - 0s 3ms/step\n",
      "Neural Network Model:\n",
      "Accuracy: 41.0%\n",
      "Precision: 81.2%\n",
      "Recall: 41.0%\n",
      "F1 Score: 33.6%\n"
     ]
    }
   ],
   "source": [
    "import pandas as pd\n",
    "import numpy as np\n",
    "import tensorflow as tf\n",
    "from tensorflow.keras.models import Sequential\n",
    "from tensorflow.keras.layers import Dense\n",
    "from sklearn.metrics import accuracy_score, precision_score, recall_score, f1_score\n",
    "nn_model = Sequential()\n",
    "nn_model.add(Dense(units=128, activation='relu', input_dim=X_train.shape[1]))\n",
    "nn_model.add(Dense(units=64, activation='relu'))\n",
    "nn_model.add(Dense(units=1, activation='sigmoid'))\n",
    "nn_model.compile(optimizer='adam', loss='binary_crossentropy', metrics=['accuracy'])\n",
    "nn_model.fit(X_train, y_train, epochs=10, batch_size=32, validation_data=(X_test, y_test))\n",
    "y_pred_nn_prob = nn_model.predict(X_test)\n",
    "y_pred_nn = (y_pred_nn_prob > 0.5).astype(int).flatten()  # Convert probabilities to binary labels\n",
    "accuracy_nn = accuracy_score(y_test, y_pred_nn) * 100\n",
    "precision_nn = precision_score(y_test, y_pred_nn, average='weighted', zero_division=1) * 100\n",
    "recall_nn = recall_score(y_test, y_pred_nn, average='weighted', zero_division=1) * 100\n",
    "f1_nn = f1_score(y_test, y_pred_nn, average='weighted', zero_division=1) * 100\n",
    "print(f\"Neural Network Model:\")\n",
    "print(f\"Accuracy: {accuracy_nn:.1f}%\")\n",
    "print(f\"Precision: {precision_nn:.1f}%\")\n",
    "print(f\"Recall: {recall_nn:.1f}%\")\n",
    "print(f\"F1 Score: {f1_nn:.1f}%\")"
   ]
  },
  {
   "cell_type": "code",
   "execution_count": 19,
   "id": "f09689ae-744d-4da4-86da-91577ffcae50",
   "metadata": {},
   "outputs": [
    {
     "name": "stdout",
     "output_type": "stream",
     "text": [
      "Logistic Regression Model:\n",
      "Accuracy: 100.0%\n",
      "Precision: 100.0%\n",
      "Recall: 100.0%\n",
      "F1 Score: 100.0%\n"
     ]
    }
   ],
   "source": [
    "import pandas as pd\n",
    "from sklearn.linear_model import LogisticRegression\n",
    "from sklearn.preprocessing import StandardScaler\n",
    "from sklearn.metrics import accuracy_score, precision_score, recall_score, f1_score\n",
    "scaler = StandardScaler()\n",
    "X_train_scaled = scaler.fit_transform(X_train)\n",
    "X_test_scaled = scaler.transform(X_test)\n",
    "lr_model = LogisticRegression(max_iter=1000, random_state=42)\n",
    "lr_model.fit(X_train_scaled, y_train)\n",
    "y_pred_lr = lr_model.predict(X_test_scaled)\n",
    "accuracy_lr = accuracy_score(y_test, y_pred_lr) * 100\n",
    "precision_lr = precision_score(y_test, y_pred_lr, average='weighted', zero_division=1) * 100\n",
    "recall_lr = recall_score(y_test, y_pred_lr, average='weighted', zero_division=1) * 100\n",
    "f1_lr = f1_score(y_test, y_pred_lr, average='weighted', zero_division=1) * 100\n",
    "print(f\"Logistic Regression Model:\")\n",
    "print(f\"Accuracy: {accuracy_lr:.1f}%\")\n",
    "print(f\"Precision: {precision_lr:.1f}%\")\n",
    "print(f\"Recall: {recall_lr:.1f}%\")\n",
    "print(f\"F1 Score: {f1_lr:.1f}%\")"
   ]
  },
  {
   "cell_type": "code",
   "execution_count": 20,
   "id": "9ad0a91a-de51-450a-b5b6-efecb205d24c",
   "metadata": {},
   "outputs": [
    {
     "name": "stdout",
     "output_type": "stream",
     "text": [
      "Multinomial Naive Bayes Model:\n",
      "Accuracy: 79.5%\n",
      "Precision: 78.9%\n",
      "Recall: 79.5%\n",
      "F1 Score: 78.9%\n"
     ]
    }
   ],
   "source": [
    "import pandas as pd\n",
    "from sklearn.naive_bayes import MultinomialNB\n",
    "from sklearn.metrics import accuracy_score, precision_score, recall_score, f1_score\n",
    "nb_model = MultinomialNB()\n",
    "nb_model.fit(X_train, y_train)\n",
    "y_pred_nb = nb_model.predict(X_test)\n",
    "accuracy_nb = accuracy_score(y_test, y_pred_nb) * 100\n",
    "precision_nb = precision_score(y_test, y_pred_nb, average='weighted') * 100\n",
    "recall_nb = recall_score(y_test, y_pred_nb, average='weighted') * 100\n",
    "f1_nb = f1_score(y_test, y_pred_nb, average='weighted') * 100\n",
    "print(f\"Multinomial Naive Bayes Model:\")\n",
    "print(f\"Accuracy: {accuracy_nb:.1f}%\")\n",
    "print(f\"Precision: {precision_nb:.1f}%\")\n",
    "print(f\"Recall: {recall_nb:.1f}%\")\n",
    "print(f\"F1 Score: {f1_nb:.1f}%\")"
   ]
  },
  {
   "cell_type": "code",
   "execution_count": 21,
   "id": "25443a22-f98f-44de-ba23-e1c5fefc0915",
   "metadata": {},
   "outputs": [
    {
     "name": "stdout",
     "output_type": "stream",
     "text": [
      "Gaussian Naive Bayes Model:\n",
      "Accuracy: 89.5%\n",
      "Precision: 90.0%\n",
      "Recall: 89.5%\n",
      "F1 Score: 89.5%\n"
     ]
    }
   ],
   "source": [
    "import pandas as pd\n",
    "from sklearn.naive_bayes import GaussianNB\n",
    "from sklearn.metrics import accuracy_score, precision_score, recall_score, f1_score\n",
    "nb_model = GaussianNB()\n",
    "nb_model.fit(X_train, y_train)\n",
    "y_pred_nb = nb_model.predict(X_test)\n",
    "accuracy_nb = accuracy_score(y_test, y_pred_nb) * 100\n",
    "precision_nb = precision_score(y_test, y_pred_nb, average='weighted') * 100\n",
    "recall_nb = recall_score(y_test, y_pred_nb, average='weighted') * 100\n",
    "f1_nb = f1_score(y_test, y_pred_nb, average='weighted') * 100\n",
    "print(f\"Gaussian Naive Bayes Model:\")\n",
    "print(f\"Accuracy: {accuracy_nb:.1f}%\")\n",
    "print(f\"Precision: {precision_nb:.1f}%\")\n",
    "print(f\"Recall: {recall_nb:.1f}%\")\n",
    "print(f\"F1 Score: {f1_nb:.1f}%\")"
   ]
  },
  {
   "cell_type": "code",
   "execution_count": 22,
   "id": "c0ad4650-d5e1-4719-975e-370ce0afa00d",
   "metadata": {},
   "outputs": [
    {
     "name": "stdout",
     "output_type": "stream",
     "text": [
      "KNN Classifier Model:\n",
      "Accuracy: 99.5%\n",
      "Precision: 99.5%\n",
      "Recall: 99.5%\n",
      "F1 Score: 99.5%\n"
     ]
    }
   ],
   "source": [
    "import pandas as pd\n",
    "from sklearn.neighbors import KNeighborsClassifier\n",
    "from sklearn.metrics import accuracy_score, precision_score, recall_score, f1_score\n",
    "knn_model = KNeighborsClassifier(n_neighbors=5)\n",
    "knn_model.fit(X_train, y_train)\n",
    "y_pred_knn = knn_model.predict(X_test)\n",
    "accuracy_knn = accuracy_score(y_test, y_pred_knn) * 100\n",
    "precision_knn = precision_score(y_test, y_pred_knn, average='weighted') * 100\n",
    "recall_knn = recall_score(y_test, y_pred_knn, average='weighted') * 100\n",
    "f1_knn = f1_score(y_test, y_pred_knn, average='weighted') * 100\n",
    "print(f\"KNN Classifier Model:\")\n",
    "print(f\"Accuracy: {accuracy_knn:.1f}%\")\n",
    "print(f\"Precision: {precision_knn:.1f}%\")\n",
    "print(f\"Recall: {recall_knn:.1f}%\")\n",
    "print(f\"F1 Score: {f1_knn:.1f}%\")"
   ]
  },
  {
   "cell_type": "code",
   "execution_count": 23,
   "id": "3384e571-66a8-484c-9f34-6d5831b5f0d7",
   "metadata": {},
   "outputs": [
    {
     "name": "stdout",
     "output_type": "stream",
     "text": [
      "XGBoost Classifier:\n",
      "Accuracy: 100.0%\n",
      "Precision: 100.0%\n",
      "Recall: 100.0%\n",
      "F1 Score: 100.0%\n"
     ]
    }
   ],
   "source": [
    "import xgboost as xgb\n",
    "from xgboost import XGBClassifier\n",
    "from sklearn.metrics import accuracy_score, precision_score, recall_score, f1_score\n",
    "from sklearn.preprocessing import StandardScaler\n",
    "scaler = StandardScaler()\n",
    "X_train_scaled = scaler.fit_transform(X_train)\n",
    "X_test_scaled = scaler.transform(X_test)\n",
    "xgb_classifier = XGBClassifier(n_estimators=100, random_state=42)\n",
    "xgb_classifier.fit(X_train_scaled, y_train)\n",
    "y_pred_xgb = xgb_classifier.predict(X_test_scaled)\n",
    "accuracy_xgb = accuracy_score(y_test, y_pred_xgb) * 100\n",
    "precision_xgb = precision_score(y_test, y_pred_xgb, average='weighted', zero_division=1) * 100\n",
    "recall_xgb = recall_score(y_test, y_pred_xgb, average='weighted', zero_division=1) * 100\n",
    "f1_xgb = f1_score(y_test, y_pred_xgb, average='weighted', zero_division=1) * 100\n",
    "print(f\"XGBoost Classifier:\")\n",
    "print(f\"Accuracy: {accuracy_xgb:.1f}%\")\n",
    "print(f\"Precision: {precision_xgb:.1f}%\")\n",
    "print(f\"Recall: {recall_xgb:.1f}%\")\n",
    "print(f\"F1 Score: {f1_xgb:.1f}%\")"
   ]
  },
  {
   "cell_type": "code",
   "execution_count": 24,
   "id": "94848e85-a4b6-4071-bfd5-75d309a00224",
   "metadata": {},
   "outputs": [
    {
     "name": "stdout",
     "output_type": "stream",
     "text": [
      "SVM Model:\n",
      "Accuracy: 96.5%\n",
      "Precision: 96.7%\n",
      "Recall: 96.5%\n",
      "F1 Score: 96.5%\n"
     ]
    }
   ],
   "source": [
    "import pandas as pd\n",
    "from sklearn.svm import SVC\n",
    "from sklearn.metrics import accuracy_score, precision_score, recall_score, f1_score\n",
    "svm_model = SVC(kernel='rbf', random_state=42)\n",
    "svm_model.fit(X_train, y_train)\n",
    "y_pred_svm = svm_model.predict(X_test)\n",
    "accuracy_svm = accuracy_score(y_test, y_pred_svm) * 100\n",
    "precision_svm = precision_score(y_test, y_pred_svm, average='weighted') * 100\n",
    "recall_svm = recall_score(y_test, y_pred_svm, average='weighted') * 100\n",
    "f1_svm = f1_score(y_test, y_pred_svm, average='weighted') * 100\n",
    "print(f\"SVM Model:\")\n",
    "print(f\"Accuracy: {accuracy_svm:.1f}%\")\n",
    "print(f\"Precision: {precision_svm:.1f}%\")\n",
    "print(f\"Recall: {recall_svm:.1f}%\")\n",
    "print(f\"F1 Score: {f1_svm:.1f}%\")"
   ]
  },
  {
   "cell_type": "code",
   "execution_count": 25,
   "id": "4d069060-3040-45fe-9cfc-3f2018a11cf6",
   "metadata": {},
   "outputs": [
    {
     "name": "stdout",
     "output_type": "stream",
     "text": [
      "CatBoost Classifier:\n",
      "Accuracy: 100.0%\n",
      "Precision: 100.0%\n",
      "Recall: 100.0%\n",
      "F1 Score: 100.0%\n"
     ]
    }
   ],
   "source": [
    "import pandas as pd\n",
    "from catboost import CatBoostClassifier\n",
    "from sklearn.metrics import accuracy_score, precision_score, recall_score, f1_score\n",
    "from sklearn.model_selection import train_test_split\n",
    "from sklearn.preprocessing import StandardScaler\n",
    "X_train, X_test, y_train, y_test = train_test_split(X, y, test_size=0.2, random_state=42)\n",
    "scaler = StandardScaler()\n",
    "X_train_scaled = scaler.fit_transform(X_train)\n",
    "X_test_scaled = scaler.transform(X_test)\n",
    "catboost_model = CatBoostClassifier(iterations=1000, depth=6, learning_rate=0.1, loss_function='MultiClass', eval_metric='Accuracy', random_state=42)\n",
    "catboost_model.fit(X_train_scaled, y_train, eval_set=(X_test_scaled, y_test), early_stopping_rounds=50, verbose=False)\n",
    "y_pred_catboost = catboost_model.predict(X_test_scaled)\n",
    "accuracy_catboost = accuracy_score(y_test, y_pred_catboost) * 100\n",
    "precision_catboost = precision_score(y_test, y_pred_catboost, average='weighted', zero_division=1) * 100\n",
    "recall_catboost = recall_score(y_test, y_pred_catboost, average='weighted', zero_division=1) * 100\n",
    "f1_catboost = f1_score(y_test, y_pred_catboost, average='weighted', zero_division=1) * 100\n",
    "print(f\"CatBoost Classifier:\")\n",
    "print(f\"Accuracy: {accuracy_catboost:.1f}%\")\n",
    "print(f\"Precision: {precision_catboost:.1f}%\")\n",
    "print(f\"Recall: {recall_catboost:.1f}%\")\n",
    "print(f\"F1 Score: {f1_catboost:.1f}%\")"
   ]
  },
  {
   "cell_type": "code",
   "execution_count": 26,
   "id": "ba33c235-b64a-4df3-a954-f1eafb70db56",
   "metadata": {},
   "outputs": [
    {
     "name": "stdout",
     "output_type": "stream",
     "text": [
      "Requirement already satisfied: shap in c:\\users\\admin\\appdata\\local\\programs\\python\\python311\\lib\\site-packages (0.43.0)\n",
      "Requirement already satisfied: numpy in c:\\users\\admin\\appdata\\local\\programs\\python\\python311\\lib\\site-packages (from shap) (1.26.4)\n",
      "Requirement already satisfied: scipy in c:\\users\\admin\\appdata\\local\\programs\\python\\python311\\lib\\site-packages (from shap) (1.11.1)\n",
      "Requirement already satisfied: scikit-learn in c:\\users\\admin\\appdata\\local\\programs\\python\\python311\\lib\\site-packages (from shap) (1.3.2)\n",
      "Requirement already satisfied: pandas in c:\\users\\admin\\appdata\\local\\programs\\python\\python311\\lib\\site-packages (from shap) (2.2.1)\n",
      "Requirement already satisfied: tqdm>=4.27.0 in c:\\users\\admin\\appdata\\local\\programs\\python\\python311\\lib\\site-packages (from shap) (4.66.1)\n",
      "Requirement already satisfied: packaging>20.9 in c:\\users\\admin\\appdata\\local\\programs\\python\\python311\\lib\\site-packages (from shap) (23.1)\n",
      "Requirement already satisfied: slicer==0.0.7 in c:\\users\\admin\\appdata\\local\\programs\\python\\python311\\lib\\site-packages (from shap) (0.0.7)\n",
      "Requirement already satisfied: numba in c:\\users\\admin\\appdata\\local\\programs\\python\\python311\\lib\\site-packages (from shap) (0.58.1)\n",
      "Requirement already satisfied: cloudpickle in c:\\users\\admin\\appdata\\local\\programs\\python\\python311\\lib\\site-packages (from shap) (3.0.0)\n",
      "Requirement already satisfied: colorama in c:\\users\\admin\\appdata\\local\\programs\\python\\python311\\lib\\site-packages (from tqdm>=4.27.0->shap) (0.4.6)\n",
      "Requirement already satisfied: llvmlite<0.42,>=0.41.0dev0 in c:\\users\\admin\\appdata\\local\\programs\\python\\python311\\lib\\site-packages (from numba->shap) (0.41.1)\n",
      "Requirement already satisfied: python-dateutil>=2.8.2 in c:\\users\\admin\\appdata\\local\\programs\\python\\python311\\lib\\site-packages (from pandas->shap) (2.8.2)\n",
      "Requirement already satisfied: pytz>=2020.1 in c:\\users\\admin\\appdata\\local\\programs\\python\\python311\\lib\\site-packages (from pandas->shap) (2023.3)\n",
      "Requirement already satisfied: tzdata>=2022.7 in c:\\users\\admin\\appdata\\local\\programs\\python\\python311\\lib\\site-packages (from pandas->shap) (2023.3)\n",
      "Requirement already satisfied: joblib>=1.1.1 in c:\\users\\admin\\appdata\\local\\programs\\python\\python311\\lib\\site-packages (from scikit-learn->shap) (1.3.1)\n",
      "Requirement already satisfied: threadpoolctl>=2.0.0 in c:\\users\\admin\\appdata\\local\\programs\\python\\python311\\lib\\site-packages (from scikit-learn->shap) (3.2.0)\n",
      "Requirement already satisfied: six>=1.5 in c:\\users\\admin\\appdata\\local\\programs\\python\\python311\\lib\\site-packages (from python-dateutil>=2.8.2->pandas->shap) (1.16.0)\n",
      "Note: you may need to restart the kernel to use updated packages.\n"
     ]
    }
   ],
   "source": [
    "pip install shap"
   ]
  },
  {
   "cell_type": "code",
   "execution_count": 40,
   "id": "5104d9f2-9169-43e7-8cb1-782a488c2464",
   "metadata": {},
   "outputs": [
    {
     "data": {
      "image/png": "[encoded data removed]",
      "text/plain": [
       "<Figure size 500x400 with 1 Axes>"
      ]
     },
     "metadata": {},
     "output_type": "display_data"
    }
   ],
   "source": [
    "import shap\n",
    "import matplotlib.pyplot as plt\n",
    "from catboost import CatBoostClassifier\n",
    "from sklearn.model_selection import train_test_split\n",
    "from sklearn.preprocessing import StandardScaler\n",
    "X_train, X_test, y_train, y_test = train_test_split(X, y, test_size=0.2, random_state=42)\n",
    "scaler = StandardScaler()\n",
    "X_train_scaled = scaler.fit_transform(X_train)\n",
    "X_test_scaled = scaler.transform(X_test)\n",
    "catboost_model = CatBoostClassifier(iterations=1000, depth=6, learning_rate=0.1, loss_function='MultiClass', eval_metric='Accuracy', random_state=42)\n",
    "catboost_model.fit(X_train_scaled, y_train, eval_set=(X_test_scaled, y_test), early_stopping_rounds=50, verbose=False)\n",
    "explainer = shap.TreeExplainer(catboost_model)\n",
    "shap_values = explainer.shap_values(X_test_scaled)\n",
    "shap.summary_plot(shap_values, X_test, plot_type=\"bar\", show=False)\n",
    "plt.gcf().set_size_inches(5, 4)  \n",
    "plt.show()"
   ]
  },
  {
   "cell_type": "code",
   "execution_count": null,
   "id": "892ce66b-80d7-4e51-be91-872ae5a686bf",
   "metadata": {},
   "outputs": [],
   "source": []
  }
 ],
 "metadata": {
  "kernelspec": {
   "display_name": "Python 3 (ipykernel)",
   "language": "python",
   "name": "python3"
  },
  "language_info": {
   "codemirror_mode": {
    "name": "ipython",
    "version": 3
   },
   "file_extension": ".py",
   "mimetype": "text/x-python",
   "name": "python",
   "nbconvert_exporter": "python",
   "pygments_lexer": "ipython3",
   "version": "3.11.4"
  }
 },
 "nbformat": 4,
 "nbformat_minor": 5
}
